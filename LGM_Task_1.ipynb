{
  "nbformat": 4,
  "nbformat_minor": 0,
  "metadata": {
    "colab": {
      "name": "LGM Task 1.ipynb",
      "provenance": [],
      "collapsed_sections": []
    },
    "kernelspec": {
      "name": "python3",
      "display_name": "Python 3"
    },
    "language_info": {
      "name": "python"
    }
  },
  "cells": [
    {
      "cell_type": "markdown",
      "metadata": {
        "id": "KegJkZbb-S72"
      },
      "source": [
        "# **Name: Shruti Bhavsar**"
      ]
    },
    {
      "cell_type": "markdown",
      "metadata": {
        "id": "wgAYiqPlD-pw"
      },
      "source": [
        "**LetsGrowMore- Virtual Internship Program**"
      ]
    },
    {
      "cell_type": "markdown",
      "metadata": {
        "id": "Ty5_v74c-gHd"
      },
      "source": [
        "***Beginner Level Task***"
      ]
    },
    {
      "cell_type": "markdown",
      "metadata": {
        "id": "UVN5x6rpV_fS"
      },
      "source": [
        "**Task 1: Stock Market Prediction and Forecasting using Stacked LSTM**"
      ]
    },
    {
      "cell_type": "code",
      "metadata": {
        "id": "eD9EYUK0WFO7"
      },
      "source": [
        "import pandas_datareader as pdr\n",
        "import tensorflow as tf\n",
        "import pandas as pd\n",
        "import matplotlib.pyplot as plt\n",
        "import numpy as np\n",
        "from tensorflow.keras.models import Sequential\n",
        "from tensorflow.keras.layers import Dense\n",
        "from tensorflow.keras.layers import LSTM"
      ],
      "execution_count": null,
      "outputs": []
    },
    {
      "cell_type": "code",
      "metadata": {
        "colab": {
          "base_uri": "https://localhost:8080/",
          "height": 204
        },
        "id": "_ZZ93YYnWLKh",
        "outputId": "94d61340-89c7-41a2-89cf-5bb89c2f8dc5"
      },
      "source": [
        "#Loading the Dataset\n",
        "stock = pd.read_csv('/content/NSE-TATAGLOBAL 1.csv')\n",
        "stock.head()"
      ],
      "execution_count": null,
      "outputs": [
        {
          "output_type": "execute_result",
          "data": {
            "text/html": [
              "<div>\n",
              "<style scoped>\n",
              "    .dataframe tbody tr th:only-of-type {\n",
              "        vertical-align: middle;\n",
              "    }\n",
              "\n",
              "    .dataframe tbody tr th {\n",
              "        vertical-align: top;\n",
              "    }\n",
              "\n",
              "    .dataframe thead th {\n",
              "        text-align: right;\n",
              "    }\n",
              "</style>\n",
              "<table border=\"1\" class=\"dataframe\">\n",
              "  <thead>\n",
              "    <tr style=\"text-align: right;\">\n",
              "      <th></th>\n",
              "      <th>Date</th>\n",
              "      <th>Open</th>\n",
              "      <th>High</th>\n",
              "      <th>Low</th>\n",
              "      <th>Last</th>\n",
              "      <th>Close</th>\n",
              "      <th>Total Trade Quantity</th>\n",
              "      <th>Turnover (Lacs)</th>\n",
              "    </tr>\n",
              "  </thead>\n",
              "  <tbody>\n",
              "    <tr>\n",
              "      <th>0</th>\n",
              "      <td>28/09/2018</td>\n",
              "      <td>234.05</td>\n",
              "      <td>235.95</td>\n",
              "      <td>230.20</td>\n",
              "      <td>233.50</td>\n",
              "      <td>233.75</td>\n",
              "      <td>3069914</td>\n",
              "      <td>7162.35</td>\n",
              "    </tr>\n",
              "    <tr>\n",
              "      <th>1</th>\n",
              "      <td>27/09/2018</td>\n",
              "      <td>234.55</td>\n",
              "      <td>236.80</td>\n",
              "      <td>231.10</td>\n",
              "      <td>233.80</td>\n",
              "      <td>233.25</td>\n",
              "      <td>5082859</td>\n",
              "      <td>11859.95</td>\n",
              "    </tr>\n",
              "    <tr>\n",
              "      <th>2</th>\n",
              "      <td>26/09/2018</td>\n",
              "      <td>240.00</td>\n",
              "      <td>240.00</td>\n",
              "      <td>232.50</td>\n",
              "      <td>235.00</td>\n",
              "      <td>234.25</td>\n",
              "      <td>2240909</td>\n",
              "      <td>5248.60</td>\n",
              "    </tr>\n",
              "    <tr>\n",
              "      <th>3</th>\n",
              "      <td>25/09/2018</td>\n",
              "      <td>233.30</td>\n",
              "      <td>236.75</td>\n",
              "      <td>232.00</td>\n",
              "      <td>236.25</td>\n",
              "      <td>236.10</td>\n",
              "      <td>2349368</td>\n",
              "      <td>5503.90</td>\n",
              "    </tr>\n",
              "    <tr>\n",
              "      <th>4</th>\n",
              "      <td>24/09/2018</td>\n",
              "      <td>233.55</td>\n",
              "      <td>239.20</td>\n",
              "      <td>230.75</td>\n",
              "      <td>234.00</td>\n",
              "      <td>233.30</td>\n",
              "      <td>3423509</td>\n",
              "      <td>7999.55</td>\n",
              "    </tr>\n",
              "  </tbody>\n",
              "</table>\n",
              "</div>"
            ],
            "text/plain": [
              "         Date    Open    High  ...   Close  Total Trade Quantity  Turnover (Lacs)\n",
              "0  28/09/2018  234.05  235.95  ...  233.75               3069914          7162.35\n",
              "1  27/09/2018  234.55  236.80  ...  233.25               5082859         11859.95\n",
              "2  26/09/2018  240.00  240.00  ...  234.25               2240909          5248.60\n",
              "3  25/09/2018  233.30  236.75  ...  236.10               2349368          5503.90\n",
              "4  24/09/2018  233.55  239.20  ...  233.30               3423509          7999.55\n",
              "\n",
              "[5 rows x 8 columns]"
            ]
          },
          "metadata": {},
          "execution_count": 17
        }
      ]
    },
    {
      "cell_type": "code",
      "metadata": {
        "id": "adJ3DHDGWkj0"
      },
      "source": [
        "# Get the 'Close' values\n",
        "stock_close = df.reset_index()['Close']"
      ],
      "execution_count": null,
      "outputs": []
    },
    {
      "cell_type": "code",
      "metadata": {
        "colab": {
          "base_uri": "https://localhost:8080/"
        },
        "id": "IE7xIXT8WpIF",
        "outputId": "4fd3df0c-a535-4655-de40-372ce10f4e87"
      },
      "source": [
        "stock_close.shape"
      ],
      "execution_count": null,
      "outputs": [
        {
          "output_type": "execute_result",
          "data": {
            "text/plain": [
              "(2035,)"
            ]
          },
          "metadata": {},
          "execution_count": 15
        }
      ]
    },
    {
      "cell_type": "code",
      "metadata": {
        "colab": {
          "base_uri": "https://localhost:8080/",
          "height": 282
        },
        "id": "x1woWQbeXIgZ",
        "outputId": "8b46d60e-291e-4278-c1f9-eb70e1156a8b"
      },
      "source": [
        "plt.plot(stock_close)"
      ],
      "execution_count": null,
      "outputs": [
        {
          "output_type": "execute_result",
          "data": {
            "text/plain": [
              "[<matplotlib.lines.Line2D at 0x7f3840dd5610>]"
            ]
          },
          "metadata": {},
          "execution_count": 18
        },
        {
          "output_type": "display_data",
          "data": {
            "image/png": "[encoded data removed]",
            "text/plain": [
              "<Figure size 432x288 with 1 Axes>"
            ]
          },
          "metadata": {
            "needs_background": "light"
          }
        }
      ]
    },
    {
      "cell_type": "code",
      "metadata": {
        "colab": {
          "base_uri": "https://localhost:8080/"
        },
        "id": "jWPueKLMXVs1",
        "outputId": "3a31027d-da7d-49ec-98d7-8e955996a45f"
      },
      "source": [
        "from sklearn.preprocessing import MinMaxScaler\n",
        "scaler = MinMaxScaler(feature_range=(0, 1))\n",
        "stock_close = scaler.fit_transform(np.array(stock_close).reshape(-1, 1))\n",
        "stock_close.shape"
      ],
      "execution_count": null,
      "outputs": [
        {
          "output_type": "execute_result",
          "data": {
            "text/plain": [
              "(2035, 1)"
            ]
          },
          "metadata": {},
          "execution_count": 22
        }
      ]
    },
    {
      "cell_type": "code",
      "metadata": {
        "id": "jNVWy6d3aaQr"
      },
      "source": [
        "#Testing and Training the data\n",
        "# split train & test\n",
        "train_size = int(len(stock_close)*0.65)\n",
        "test_size = len(stock_close) - train_size\n",
        "train_data, test_data = stock_close[0:train_size,:], stock_close[train_size:len(stock),:1]"
      ],
      "execution_count": null,
      "outputs": []
    },
    {
      "cell_type": "code",
      "metadata": {
        "id": "liurIUhPbvEK"
      },
      "source": [
        "import numpy\n",
        "# convert values to dataset matrix\n",
        "def create_dataset(dataset, time_step = 1):\n",
        "  dataX, dataY = [], []\n",
        "  for i in range(len(dataset) - time_step - 1):\n",
        "    a = dataset[i:(i+time_step), 0]\n",
        "    dataX.append(a)\n",
        "    dataY.append(dataset[i + time_step, 0])\n",
        "  return numpy.array(dataX), numpy.array(dataY)"
      ],
      "execution_count": null,
      "outputs": []
    },
    {
      "cell_type": "code",
      "metadata": {
        "id": "mokVVSHeb36F"
      },
      "source": [
        "time_step=100\n",
        "X_train, y_train = create_dataset(train_data, time_step)\n",
        "X_test, y_test = create_dataset(test_data, time_step)"
      ],
      "execution_count": null,
      "outputs": []
    },
    {
      "cell_type": "code",
      "metadata": {
        "colab": {
          "base_uri": "https://localhost:8080/"
        },
        "id": "dZdpUQ5Pb63S",
        "outputId": "5be95414-394b-43ba-f1fe-fbf0f3ec1db7"
      },
      "source": [
        "print(X_train)"
      ],
      "execution_count": null,
      "outputs": [
        {
          "output_type": "stream",
          "name": "stdout",
          "text": [
            "[[0.62418301 0.62214052 0.62622549 ... 0.83455882 0.86213235 0.85273693]\n",
            " [0.62214052 0.62622549 0.63378268 ... 0.86213235 0.85273693 0.87111928]\n",
            " [0.62622549 0.63378268 0.62234477 ... 0.85273693 0.87111928 0.84497549]\n",
            " ...\n",
            " [0.34517974 0.31781046 0.33047386 ... 0.2816585  0.27001634 0.26531863]\n",
            " [0.31781046 0.33047386 0.32128268 ... 0.27001634 0.26531863 0.27389706]\n",
            " [0.33047386 0.32128268 0.34007353 ... 0.26531863 0.27389706 0.25347222]]\n"
          ]
        }
      ]
    },
    {
      "cell_type": "code",
      "metadata": {
        "colab": {
          "base_uri": "https://localhost:8080/"
        },
        "id": "d5rTBKx3cC9n",
        "outputId": "98e3097f-cd7e-424e-81e4-a740a84b8f24"
      },
      "source": [
        "print(X_train.shape), print(y_train.shape)"
      ],
      "execution_count": null,
      "outputs": [
        {
          "output_type": "stream",
          "name": "stdout",
          "text": [
            "(1221, 100)\n",
            "(1221,)\n"
          ]
        },
        {
          "output_type": "execute_result",
          "data": {
            "text/plain": [
              "(None, None)"
            ]
          },
          "metadata": {},
          "execution_count": 34
        }
      ]
    },
    {
      "cell_type": "code",
      "metadata": {
        "colab": {
          "base_uri": "https://localhost:8080/"
        },
        "id": "kM_P7x4lcO9E",
        "outputId": "9e6ad4b6-10ce-4072-92ef-e009a01af31d"
      },
      "source": [
        "print(X_test.shape), print(y_test.shape)"
      ],
      "execution_count": null,
      "outputs": [
        {
          "output_type": "stream",
          "name": "stdout",
          "text": [
            "(612, 100)\n",
            "(612,)\n"
          ]
        },
        {
          "output_type": "execute_result",
          "data": {
            "text/plain": [
              "(None, None)"
            ]
          },
          "metadata": {},
          "execution_count": 35
        }
      ]
    },
    {
      "cell_type": "code",
      "metadata": {
        "id": "bE2x4S62cXIL"
      },
      "source": [
        "# reshape input to 3D [samples, time steps, features]\n",
        "# 3D input required for LSTM\n",
        "X_train = X_train.reshape(X_train.shape[0], X_train.shape[1], 1)\n",
        "X_test = X_test.reshape(X_test.shape[0], X_test.shape[1], 1)"
      ],
      "execution_count": null,
      "outputs": []
    },
    {
      "cell_type": "code",
      "metadata": {
        "id": "8K6bRUYvcgWe"
      },
      "source": [
        "model = Sequential()\n",
        "model.add(LSTM(50, return_sequences=True, input_shape=(100,1)))\n",
        "model.add(LSTM(50, return_sequences=True))\n",
        "model.add(LSTM(50))\n",
        "model.add(Dense(1))\n",
        "# compile model\n",
        "model.compile(loss='mean_squared_error', optimizer='adam')"
      ],
      "execution_count": null,
      "outputs": []
    },
    {
      "cell_type": "code",
      "metadata": {
        "colab": {
          "base_uri": "https://localhost:8080/"
        },
        "id": "vuYA0aodck2W",
        "outputId": "2ce60e98-3a45-4c55-f90e-69ebd6540a8b"
      },
      "source": [
        "# Show model summary\n",
        "model.summary()"
      ],
      "execution_count": null,
      "outputs": [
        {
          "output_type": "stream",
          "name": "stdout",
          "text": [
            "Model: \"sequential\"\n",
            "_________________________________________________________________\n",
            "Layer (type)                 Output Shape              Param #   \n",
            "=================================================================\n",
            "lstm (LSTM)                  (None, 100, 50)           10400     \n",
            "_________________________________________________________________\n",
            "lstm_1 (LSTM)                (None, 100, 50)           20200     \n",
            "_________________________________________________________________\n",
            "lstm_2 (LSTM)                (None, 50)                20200     \n",
            "_________________________________________________________________\n",
            "dense (Dense)                (None, 1)                 51        \n",
            "=================================================================\n",
            "Total params: 50,851\n",
            "Trainable params: 50,851\n",
            "Non-trainable params: 0\n",
            "_________________________________________________________________\n"
          ]
        }
      ]
    },
    {
      "cell_type": "code",
      "metadata": {
        "colab": {
          "base_uri": "https://localhost:8080/"
        },
        "id": "UsNUHjldct7p",
        "outputId": "40a85bf9-0a47-4a40-f434-572846c9aa27"
      },
      "source": [
        "model.fit(X_train, y_train, validation_data=(X_test, y_test), epochs=100, batch_size=64, verbose=1)"
      ],
      "execution_count": null,
      "outputs": [
        {
          "output_type": "stream",
          "name": "stdout",
          "text": [
            "Epoch 1/100\n",
            "20/20 [==============================] - 4s 200ms/step - loss: 2.4571e-04 - val_loss: 2.2442e-04\n",
            "Epoch 2/100\n",
            "20/20 [==============================] - 4s 193ms/step - loss: 2.6469e-04 - val_loss: 3.4611e-04\n",
            "Epoch 3/100\n",
            "20/20 [==============================] - 4s 199ms/step - loss: 3.2939e-04 - val_loss: 3.2609e-04\n",
            "Epoch 4/100\n",
            "20/20 [==============================] - 4s 199ms/step - loss: 2.9736e-04 - val_loss: 4.8599e-04\n",
            "Epoch 5/100\n",
            "20/20 [==============================] - 4s 197ms/step - loss: 4.1459e-04 - val_loss: 2.7418e-04\n",
            "Epoch 6/100\n",
            "20/20 [==============================] - 4s 195ms/step - loss: 3.2684e-04 - val_loss: 2.5244e-04\n",
            "Epoch 7/100\n",
            "20/20 [==============================] - 4s 196ms/step - loss: 2.5990e-04 - val_loss: 2.6273e-04\n",
            "Epoch 8/100\n",
            "20/20 [==============================] - 4s 199ms/step - loss: 2.8364e-04 - val_loss: 2.2193e-04\n",
            "Epoch 9/100\n",
            "20/20 [==============================] - 4s 197ms/step - loss: 2.4215e-04 - val_loss: 2.1885e-04\n",
            "Epoch 10/100\n",
            "20/20 [==============================] - 4s 198ms/step - loss: 2.3512e-04 - val_loss: 2.2362e-04\n",
            "Epoch 11/100\n",
            "20/20 [==============================] - 4s 195ms/step - loss: 2.4050e-04 - val_loss: 1.8974e-04\n",
            "Epoch 12/100\n",
            "20/20 [==============================] - 4s 196ms/step - loss: 2.5082e-04 - val_loss: 2.3832e-04\n",
            "Epoch 13/100\n",
            "20/20 [==============================] - 4s 199ms/step - loss: 2.5473e-04 - val_loss: 2.1598e-04\n",
            "Epoch 14/100\n",
            "20/20 [==============================] - 4s 200ms/step - loss: 2.7230e-04 - val_loss: 3.6851e-04\n",
            "Epoch 15/100\n",
            "20/20 [==============================] - 4s 198ms/step - loss: 2.4971e-04 - val_loss: 2.8065e-04\n",
            "Epoch 16/100\n",
            "20/20 [==============================] - 4s 198ms/step - loss: 2.3767e-04 - val_loss: 2.0562e-04\n",
            "Epoch 17/100\n",
            "20/20 [==============================] - 4s 199ms/step - loss: 2.3213e-04 - val_loss: 2.0668e-04\n",
            "Epoch 18/100\n",
            "20/20 [==============================] - 4s 198ms/step - loss: 2.2879e-04 - val_loss: 1.8452e-04\n",
            "Epoch 19/100\n",
            "20/20 [==============================] - 4s 197ms/step - loss: 2.2394e-04 - val_loss: 2.2590e-04\n",
            "Epoch 20/100\n",
            "20/20 [==============================] - 4s 203ms/step - loss: 2.4314e-04 - val_loss: 5.3800e-04\n",
            "Epoch 21/100\n",
            "20/20 [==============================] - 4s 202ms/step - loss: 4.2319e-04 - val_loss: 2.9052e-04\n",
            "Epoch 22/100\n",
            "20/20 [==============================] - 4s 199ms/step - loss: 2.9194e-04 - val_loss: 2.1463e-04\n",
            "Epoch 23/100\n",
            "20/20 [==============================] - 4s 198ms/step - loss: 2.5015e-04 - val_loss: 1.9059e-04\n",
            "Epoch 24/100\n",
            "20/20 [==============================] - 4s 201ms/step - loss: 2.4416e-04 - val_loss: 2.0687e-04\n",
            "Epoch 25/100\n",
            "20/20 [==============================] - 4s 199ms/step - loss: 2.4274e-04 - val_loss: 2.1304e-04\n",
            "Epoch 26/100\n",
            "20/20 [==============================] - 4s 201ms/step - loss: 2.6439e-04 - val_loss: 1.7654e-04\n",
            "Epoch 27/100\n",
            "20/20 [==============================] - 4s 202ms/step - loss: 2.5920e-04 - val_loss: 2.0557e-04\n",
            "Epoch 28/100\n",
            "20/20 [==============================] - 4s 202ms/step - loss: 2.5170e-04 - val_loss: 2.1919e-04\n",
            "Epoch 29/100\n",
            "20/20 [==============================] - 4s 203ms/step - loss: 2.4412e-04 - val_loss: 1.8735e-04\n",
            "Epoch 30/100\n",
            "20/20 [==============================] - 4s 199ms/step - loss: 2.3545e-04 - val_loss: 1.7510e-04\n",
            "Epoch 31/100\n",
            "20/20 [==============================] - 4s 197ms/step - loss: 2.0846e-04 - val_loss: 4.3516e-04\n",
            "Epoch 32/100\n",
            "20/20 [==============================] - 4s 199ms/step - loss: 3.4931e-04 - val_loss: 2.0755e-04\n",
            "Epoch 33/100\n",
            "20/20 [==============================] - 4s 202ms/step - loss: 2.4454e-04 - val_loss: 1.8449e-04\n",
            "Epoch 34/100\n",
            "20/20 [==============================] - 4s 201ms/step - loss: 2.1491e-04 - val_loss: 1.7302e-04\n",
            "Epoch 35/100\n",
            "20/20 [==============================] - 4s 203ms/step - loss: 2.0829e-04 - val_loss: 1.7508e-04\n",
            "Epoch 36/100\n",
            "20/20 [==============================] - 4s 198ms/step - loss: 2.0874e-04 - val_loss: 2.1754e-04\n",
            "Epoch 37/100\n",
            "20/20 [==============================] - 4s 197ms/step - loss: 2.2977e-04 - val_loss: 1.8355e-04\n",
            "Epoch 38/100\n",
            "20/20 [==============================] - 4s 198ms/step - loss: 2.1506e-04 - val_loss: 1.5842e-04\n",
            "Epoch 39/100\n",
            "20/20 [==============================] - 4s 196ms/step - loss: 2.0472e-04 - val_loss: 2.2277e-04\n",
            "Epoch 40/100\n",
            "20/20 [==============================] - 4s 200ms/step - loss: 2.2765e-04 - val_loss: 1.7398e-04\n",
            "Epoch 41/100\n",
            "20/20 [==============================] - 4s 200ms/step - loss: 2.1067e-04 - val_loss: 2.3534e-04\n",
            "Epoch 42/100\n",
            "20/20 [==============================] - 4s 201ms/step - loss: 2.0933e-04 - val_loss: 1.9155e-04\n",
            "Epoch 43/100\n",
            "20/20 [==============================] - 4s 198ms/step - loss: 2.3099e-04 - val_loss: 1.6287e-04\n",
            "Epoch 44/100\n",
            "20/20 [==============================] - 4s 199ms/step - loss: 2.5559e-04 - val_loss: 1.6303e-04\n",
            "Epoch 45/100\n",
            "20/20 [==============================] - 4s 199ms/step - loss: 2.6861e-04 - val_loss: 2.0424e-04\n",
            "Epoch 46/100\n",
            "20/20 [==============================] - 4s 197ms/step - loss: 2.3882e-04 - val_loss: 1.9169e-04\n",
            "Epoch 47/100\n",
            "20/20 [==============================] - 4s 198ms/step - loss: 2.1857e-04 - val_loss: 2.5950e-04\n",
            "Epoch 48/100\n",
            "20/20 [==============================] - 4s 201ms/step - loss: 2.1009e-04 - val_loss: 1.5815e-04\n",
            "Epoch 49/100\n",
            "20/20 [==============================] - 4s 202ms/step - loss: 2.0690e-04 - val_loss: 2.2868e-04\n",
            "Epoch 50/100\n",
            "20/20 [==============================] - 4s 203ms/step - loss: 4.8235e-04 - val_loss: 2.4786e-04\n",
            "Epoch 51/100\n",
            "20/20 [==============================] - 4s 201ms/step - loss: 2.1240e-04 - val_loss: 2.1782e-04\n",
            "Epoch 52/100\n",
            "20/20 [==============================] - 4s 196ms/step - loss: 2.3757e-04 - val_loss: 1.6260e-04\n",
            "Epoch 53/100\n",
            "20/20 [==============================] - 4s 201ms/step - loss: 2.5555e-04 - val_loss: 2.2514e-04\n",
            "Epoch 54/100\n",
            "20/20 [==============================] - 4s 201ms/step - loss: 2.3503e-04 - val_loss: 2.0729e-04\n",
            "Epoch 55/100\n",
            "20/20 [==============================] - 4s 199ms/step - loss: 3.0952e-04 - val_loss: 1.7826e-04\n",
            "Epoch 56/100\n",
            "20/20 [==============================] - 4s 198ms/step - loss: 2.6114e-04 - val_loss: 1.7276e-04\n",
            "Epoch 57/100\n",
            "20/20 [==============================] - 4s 199ms/step - loss: 1.9504e-04 - val_loss: 1.5559e-04\n",
            "Epoch 58/100\n",
            "20/20 [==============================] - 4s 200ms/step - loss: 1.9122e-04 - val_loss: 1.5443e-04\n",
            "Epoch 59/100\n",
            "20/20 [==============================] - 4s 200ms/step - loss: 2.2419e-04 - val_loss: 1.5699e-04\n",
            "Epoch 60/100\n",
            "20/20 [==============================] - 4s 201ms/step - loss: 2.3620e-04 - val_loss: 1.5173e-04\n",
            "Epoch 61/100\n",
            "20/20 [==============================] - 4s 200ms/step - loss: 2.4898e-04 - val_loss: 3.0172e-04\n",
            "Epoch 62/100\n",
            "20/20 [==============================] - 4s 198ms/step - loss: 2.6184e-04 - val_loss: 1.5193e-04\n",
            "Epoch 63/100\n",
            "20/20 [==============================] - 4s 199ms/step - loss: 2.0009e-04 - val_loss: 1.5005e-04\n",
            "Epoch 64/100\n",
            "20/20 [==============================] - 4s 197ms/step - loss: 2.1368e-04 - val_loss: 1.5263e-04\n",
            "Epoch 65/100\n",
            "20/20 [==============================] - 4s 200ms/step - loss: 1.9312e-04 - val_loss: 1.9949e-04\n",
            "Epoch 66/100\n",
            "20/20 [==============================] - 4s 200ms/step - loss: 2.5330e-04 - val_loss: 1.5446e-04\n",
            "Epoch 67/100\n",
            "20/20 [==============================] - 4s 197ms/step - loss: 2.1891e-04 - val_loss: 1.6609e-04\n",
            "Epoch 68/100\n",
            "20/20 [==============================] - 4s 196ms/step - loss: 2.0545e-04 - val_loss: 1.7114e-04\n",
            "Epoch 69/100\n",
            "20/20 [==============================] - 4s 200ms/step - loss: 1.9939e-04 - val_loss: 1.9562e-04\n",
            "Epoch 70/100\n",
            "20/20 [==============================] - 4s 198ms/step - loss: 3.8641e-04 - val_loss: 2.2960e-04\n",
            "Epoch 71/100\n",
            "20/20 [==============================] - 4s 199ms/step - loss: 2.9140e-04 - val_loss: 1.5891e-04\n",
            "Epoch 72/100\n",
            "20/20 [==============================] - 4s 199ms/step - loss: 2.4798e-04 - val_loss: 1.6969e-04\n",
            "Epoch 73/100\n",
            "20/20 [==============================] - 4s 198ms/step - loss: 2.2838e-04 - val_loss: 1.7712e-04\n",
            "Epoch 74/100\n",
            "20/20 [==============================] - 4s 197ms/step - loss: 2.0862e-04 - val_loss: 1.8069e-04\n",
            "Epoch 75/100\n",
            "20/20 [==============================] - 4s 197ms/step - loss: 1.9953e-04 - val_loss: 1.5991e-04\n",
            "Epoch 76/100\n",
            "20/20 [==============================] - 4s 200ms/step - loss: 1.9512e-04 - val_loss: 1.5955e-04\n",
            "Epoch 77/100\n",
            "20/20 [==============================] - 4s 197ms/step - loss: 2.4238e-04 - val_loss: 1.7848e-04\n",
            "Epoch 78/100\n",
            "20/20 [==============================] - 4s 195ms/step - loss: 2.1260e-04 - val_loss: 1.9851e-04\n",
            "Epoch 79/100\n",
            "20/20 [==============================] - 4s 196ms/step - loss: 2.3722e-04 - val_loss: 1.8746e-04\n",
            "Epoch 80/100\n",
            "20/20 [==============================] - 4s 196ms/step - loss: 2.1875e-04 - val_loss: 1.5159e-04\n",
            "Epoch 81/100\n",
            "20/20 [==============================] - 4s 199ms/step - loss: 2.1187e-04 - val_loss: 1.3764e-04\n",
            "Epoch 82/100\n",
            "20/20 [==============================] - 4s 198ms/step - loss: 1.9781e-04 - val_loss: 1.9068e-04\n",
            "Epoch 83/100\n",
            "20/20 [==============================] - 4s 195ms/step - loss: 2.5207e-04 - val_loss: 1.5735e-04\n",
            "Epoch 84/100\n",
            "20/20 [==============================] - 4s 198ms/step - loss: 2.7079e-04 - val_loss: 1.6367e-04\n",
            "Epoch 85/100\n",
            "20/20 [==============================] - 4s 197ms/step - loss: 2.1171e-04 - val_loss: 1.6401e-04\n",
            "Epoch 86/100\n",
            "20/20 [==============================] - 4s 195ms/step - loss: 2.1513e-04 - val_loss: 1.6583e-04\n",
            "Epoch 87/100\n",
            "20/20 [==============================] - 4s 196ms/step - loss: 2.0707e-04 - val_loss: 1.6599e-04\n",
            "Epoch 88/100\n",
            "20/20 [==============================] - 4s 199ms/step - loss: 1.9699e-04 - val_loss: 1.7940e-04\n",
            "Epoch 89/100\n",
            "20/20 [==============================] - 4s 198ms/step - loss: 1.9675e-04 - val_loss: 1.4971e-04\n",
            "Epoch 90/100\n",
            "20/20 [==============================] - 4s 198ms/step - loss: 2.1324e-04 - val_loss: 1.8035e-04\n",
            "Epoch 91/100\n",
            "20/20 [==============================] - 4s 193ms/step - loss: 2.0233e-04 - val_loss: 2.1014e-04\n",
            "Epoch 92/100\n",
            "20/20 [==============================] - 4s 198ms/step - loss: 2.2109e-04 - val_loss: 1.3370e-04\n",
            "Epoch 93/100\n",
            "20/20 [==============================] - 4s 198ms/step - loss: 2.3901e-04 - val_loss: 1.3933e-04\n",
            "Epoch 94/100\n",
            "20/20 [==============================] - 4s 200ms/step - loss: 3.1970e-04 - val_loss: 2.5181e-04\n",
            "Epoch 95/100\n",
            "20/20 [==============================] - 4s 196ms/step - loss: 2.2274e-04 - val_loss: 2.2547e-04\n",
            "Epoch 96/100\n",
            "20/20 [==============================] - 4s 197ms/step - loss: 1.9277e-04 - val_loss: 1.6112e-04\n",
            "Epoch 97/100\n",
            "20/20 [==============================] - 4s 200ms/step - loss: 2.0638e-04 - val_loss: 2.1476e-04\n",
            "Epoch 98/100\n",
            "20/20 [==============================] - 4s 196ms/step - loss: 2.2823e-04 - val_loss: 1.5227e-04\n",
            "Epoch 99/100\n",
            "20/20 [==============================] - 4s 196ms/step - loss: 1.9678e-04 - val_loss: 1.9612e-04\n",
            "Epoch 100/100\n",
            "20/20 [==============================] - 4s 198ms/step - loss: 2.0361e-04 - val_loss: 1.3241e-04\n"
          ]
        },
        {
          "output_type": "execute_result",
          "data": {
            "text/plain": [
              "<keras.callbacks.History at 0x7f383c75dc50>"
            ]
          },
          "metadata": {},
          "execution_count": 66
        }
      ]
    },
    {
      "cell_type": "markdown",
      "metadata": {
        "id": "qsg0DHWZc8x-"
      },
      "source": [
        "**Prediction & Performance Metrics**"
      ]
    },
    {
      "cell_type": "code",
      "metadata": {
        "id": "y5UCIMKXdDfo"
      },
      "source": [
        "train_predict = model.predict(X_train)\n",
        "test_predict = model.predict(X_test)"
      ],
      "execution_count": null,
      "outputs": []
    },
    {
      "cell_type": "code",
      "metadata": {
        "id": "zt0CB2A6dz3d"
      },
      "source": [
        "train_predict = scaler.inverse_transform(train_predict)\n",
        "test_predict = scaler.inverse_transform(test_predict)"
      ],
      "execution_count": null,
      "outputs": []
    },
    {
      "cell_type": "code",
      "metadata": {
        "colab": {
          "base_uri": "https://localhost:8080/"
        },
        "id": "aFgpfSyGfT3E",
        "outputId": "a5ade1a6-01fc-44cd-d527-6db1cb806846"
      },
      "source": [
        "import math\n",
        "from sklearn.metrics import mean_squared_error\n",
        "\n",
        "# Calculate the RMSE performance metrics\n",
        "math.sqrt(mean_squared_error(y_train, train_predict))"
      ],
      "execution_count": null,
      "outputs": [
        {
          "output_type": "execute_result",
          "data": {
            "text/plain": [
              "166.5506547938878"
            ]
          },
          "metadata": {},
          "execution_count": 51
        }
      ]
    },
    {
      "cell_type": "code",
      "metadata": {
        "colab": {
          "base_uri": "https://localhost:8080/"
        },
        "id": "kYw2G0z1fcOT",
        "outputId": "c8706c54-5d26-41eb-9135-701e396908db"
      },
      "source": [
        "# test the data RMSE\n",
        "math.sqrt(mean_squared_error(y_test, test_predict))"
      ],
      "execution_count": null,
      "outputs": [
        {
          "output_type": "execute_result",
          "data": {
            "text/plain": [
              "116.29587386052253"
            ]
          },
          "metadata": {},
          "execution_count": 52
        }
      ]
    },
    {
      "cell_type": "markdown",
      "metadata": {
        "id": "SE-n4gFtfjdA"
      },
      "source": [
        "**Plotting the Results**"
      ]
    },
    {
      "cell_type": "code",
      "metadata": {
        "colab": {
          "base_uri": "https://localhost:8080/",
          "height": 265
        },
        "id": "GqUcDlrufn3i",
        "outputId": "2e1ba336-f11a-4b47-e589-f06c339ad38a"
      },
      "source": [
        "# shift the train predictions for plotting\n",
        "look_back = 100\n",
        "trainPredictPlot = np.empty_like(stock_close)\n",
        "trainPredictPlot[:, :] = np.nan\n",
        "trainPredictPlot[look_back:len(train_predict)+look_back, :] = train_predict\n",
        "\n",
        "# shift the test predictions for plotting\n",
        "testPredictPlot = np.empty_like(stock_close)\n",
        "testPredictPlot[:, :] = np.nan\n",
        "testPredictPlot[len(train_predict)+(look_back*2)+1:len(stock_close)-1, :] = test_predict\n",
        "\n",
        "# plot baseline and predictions\n",
        "plt.plot(scaler.inverse_transform(stock_close))\n",
        "plt.plot(trainPredictPlot)\n",
        "plt.plot(testPredictPlot)\n",
        "plt.show()"
      ],
      "execution_count": null,
      "outputs": [
        {
          "output_type": "display_data",
          "data": {
            "image/png": "[encoded data removed]",
            "text/plain": [
              "<Figure size 432x288 with 1 Axes>"
            ]
          },
          "metadata": {
            "needs_background": "light"
          }
        }
      ]
    },
    {
      "cell_type": "code",
      "metadata": {
        "colab": {
          "base_uri": "https://localhost:8080/"
        },
        "id": "oMgevmQ5gj4v",
        "outputId": "aa63077d-af06-4d50-81a3-2334f92ef0fb"
      },
      "source": [
        "len(test_data)"
      ],
      "execution_count": null,
      "outputs": [
        {
          "output_type": "execute_result",
          "data": {
            "text/plain": [
              "713"
            ]
          },
          "metadata": {},
          "execution_count": 55
        }
      ]
    },
    {
      "cell_type": "code",
      "metadata": {
        "colab": {
          "base_uri": "https://localhost:8080/"
        },
        "id": "pVvz16wPgmZe",
        "outputId": "32f3bb2c-a4dc-49b4-a51a-e10c11347c77"
      },
      "source": [
        "x_input = test_data[613:].reshape(1, -1)\n",
        "x_input.shape"
      ],
      "execution_count": null,
      "outputs": [
        {
          "output_type": "execute_result",
          "data": {
            "text/plain": [
              "(1, 100)"
            ]
          },
          "metadata": {},
          "execution_count": 56
        }
      ]
    },
    {
      "cell_type": "code",
      "metadata": {
        "id": "NgPFY4J7gr1U"
      },
      "source": [
        "temp_input = list(x_input)\n",
        "temp_input = temp_input[0].tolist()"
      ],
      "execution_count": null,
      "outputs": []
    },
    {
      "cell_type": "markdown",
      "metadata": {
        "id": "lMnKcecWgwD-"
      },
      "source": [
        "**Prediction for the coming 30 days**"
      ]
    },
    {
      "cell_type": "code",
      "metadata": {
        "colab": {
          "base_uri": "https://localhost:8080/"
        },
        "id": "I4Xd4tSbg5K-",
        "outputId": "1163951e-4bee-44bf-a06c-973561950d14"
      },
      "source": [
        "# show prediction for the next 30 days\n",
        "from numpy import array\n",
        "\n",
        "lst_op = []\n",
        "n_steps = 100\n",
        "i = 0\n",
        "while i < 30:\n",
        "  if(len(temp_input)>100):\n",
        "    x_input = np.array(temp_input[1:])\n",
        "    print(\"{} day input {}\".format(i, x_input))\n",
        "    x_input = x_input.reshape(1, -1)\n",
        "    x_input = x_input.reshape((1, n_steps, 1))\n",
        "    yhat = model.predict(x_input, verbose = 0)\n",
        "    print(\"{} day output {}\".format(i, yhat))\n",
        "    temp_input.extend(yhat[0].tolist())\n",
        "    temp_input = temp_input[1:]\n",
        "    lst_op.extend(yhat.tolist())\n",
        "    i += 1\n",
        "  else:\n",
        "    x_input = x_input.reshape((1, n_steps, 1))\n",
        "    yhat = model.predict(x_input, verbose=0)\n",
        "    print(yhat[0])\n",
        "    temp_input.extend(yhat[0].tolist())\n",
        "    print(len(temp_input))\n",
        "    lst_op.extend(yhat.tolist())\n",
        "    i += 1\n",
        "print(lst_op)"
      ],
      "execution_count": null,
      "outputs": [
        {
          "output_type": "stream",
          "name": "stdout",
          "text": [
            "[0.16600676]\n",
            "101\n",
            "1 day input [0.13848039 0.14011438 0.13888889 0.13541667 0.14011438 0.1380719\n",
            " 0.13071895 0.13071895 0.12867647 0.11846405 0.14644608 0.14808007\n",
            " 0.15910948 0.15992647 0.15788399 0.16441993 0.17892157 0.17933007\n",
            " 0.19260621 0.20812908 0.18974673 0.18055556 0.18239379 0.17708333\n",
            " 0.17810458 0.18055556 0.17810458 0.17851307 0.19607843 0.18913399\n",
            " 0.18954248 0.19403595 0.19444444 0.20200163 0.19771242 0.19934641\n",
            " 0.19873366 0.1997549  0.2128268  0.21568627 0.20445261 0.21772876\n",
            " 0.21098856 0.21425654 0.19750817 0.18811275 0.17851307 0.17381536\n",
            " 0.16033497 0.16564542 0.17116013 0.17422386 0.18035131 0.17401961\n",
            " 0.16278595 0.16973039 0.17810458 0.17034314 0.16830065 0.17279412\n",
            " 0.17544935 0.18382353 0.19138072 0.18913399 0.19097222 0.17238562\n",
            " 0.16830065 0.1693219  0.17177288 0.16156046 0.14971405 0.1503268\n",
            " 0.15196078 0.14726307 0.14501634 0.14603758 0.12479575 0.13112745\n",
            " 0.11397059 0.1190768  0.12377451 0.13562092 0.12908497 0.13459967\n",
            " 0.12806373 0.13031046 0.12724673 0.13521242 0.14522059 0.15257353\n",
            " 0.14848856 0.14338235 0.14562908 0.15236928 0.15400327 0.14971405\n",
            " 0.1621732  0.16319444 0.16584967 0.16600676]\n",
            "1 day output [[0.16860873]]\n",
            "2 day input [0.14011438 0.13888889 0.13541667 0.14011438 0.1380719  0.13071895\n",
            " 0.13071895 0.12867647 0.11846405 0.14644608 0.14808007 0.15910948\n",
            " 0.15992647 0.15788399 0.16441993 0.17892157 0.17933007 0.19260621\n",
            " 0.20812908 0.18974673 0.18055556 0.18239379 0.17708333 0.17810458\n",
            " 0.18055556 0.17810458 0.17851307 0.19607843 0.18913399 0.18954248\n",
            " 0.19403595 0.19444444 0.20200163 0.19771242 0.19934641 0.19873366\n",
            " 0.1997549  0.2128268  0.21568627 0.20445261 0.21772876 0.21098856\n",
            " 0.21425654 0.19750817 0.18811275 0.17851307 0.17381536 0.16033497\n",
            " 0.16564542 0.17116013 0.17422386 0.18035131 0.17401961 0.16278595\n",
            " 0.16973039 0.17810458 0.17034314 0.16830065 0.17279412 0.17544935\n",
            " 0.18382353 0.19138072 0.18913399 0.19097222 0.17238562 0.16830065\n",
            " 0.1693219  0.17177288 0.16156046 0.14971405 0.1503268  0.15196078\n",
            " 0.14726307 0.14501634 0.14603758 0.12479575 0.13112745 0.11397059\n",
            " 0.1190768  0.12377451 0.13562092 0.12908497 0.13459967 0.12806373\n",
            " 0.13031046 0.12724673 0.13521242 0.14522059 0.15257353 0.14848856\n",
            " 0.14338235 0.14562908 0.15236928 0.15400327 0.14971405 0.1621732\n",
            " 0.16319444 0.16584967 0.16600676 0.16860873]\n",
            "2 day output [[0.17019202]]\n",
            "3 day input [0.13888889 0.13541667 0.14011438 0.1380719  0.13071895 0.13071895\n",
            " 0.12867647 0.11846405 0.14644608 0.14808007 0.15910948 0.15992647\n",
            " 0.15788399 0.16441993 0.17892157 0.17933007 0.19260621 0.20812908\n",
            " 0.18974673 0.18055556 0.18239379 0.17708333 0.17810458 0.18055556\n",
            " 0.17810458 0.17851307 0.19607843 0.18913399 0.18954248 0.19403595\n",
            " 0.19444444 0.20200163 0.19771242 0.19934641 0.19873366 0.1997549\n",
            " 0.2128268  0.21568627 0.20445261 0.21772876 0.21098856 0.21425654\n",
            " 0.19750817 0.18811275 0.17851307 0.17381536 0.16033497 0.16564542\n",
            " 0.17116013 0.17422386 0.18035131 0.17401961 0.16278595 0.16973039\n",
            " 0.17810458 0.17034314 0.16830065 0.17279412 0.17544935 0.18382353\n",
            " 0.19138072 0.18913399 0.19097222 0.17238562 0.16830065 0.1693219\n",
            " 0.17177288 0.16156046 0.14971405 0.1503268  0.15196078 0.14726307\n",
            " 0.14501634 0.14603758 0.12479575 0.13112745 0.11397059 0.1190768\n",
            " 0.12377451 0.13562092 0.12908497 0.13459967 0.12806373 0.13031046\n",
            " 0.12724673 0.13521242 0.14522059 0.15257353 0.14848856 0.14338235\n",
            " 0.14562908 0.15236928 0.15400327 0.14971405 0.1621732  0.16319444\n",
            " 0.16584967 0.16600676 0.16860873 0.17019202]\n",
            "3 day output [[0.17131375]]\n",
            "4 day input [0.13541667 0.14011438 0.1380719  0.13071895 0.13071895 0.12867647\n",
            " 0.11846405 0.14644608 0.14808007 0.15910948 0.15992647 0.15788399\n",
            " 0.16441993 0.17892157 0.17933007 0.19260621 0.20812908 0.18974673\n",
            " 0.18055556 0.18239379 0.17708333 0.17810458 0.18055556 0.17810458\n",
            " 0.17851307 0.19607843 0.18913399 0.18954248 0.19403595 0.19444444\n",
            " 0.20200163 0.19771242 0.19934641 0.19873366 0.1997549  0.2128268\n",
            " 0.21568627 0.20445261 0.21772876 0.21098856 0.21425654 0.19750817\n",
            " 0.18811275 0.17851307 0.17381536 0.16033497 0.16564542 0.17116013\n",
            " 0.17422386 0.18035131 0.17401961 0.16278595 0.16973039 0.17810458\n",
            " 0.17034314 0.16830065 0.17279412 0.17544935 0.18382353 0.19138072\n",
            " 0.18913399 0.19097222 0.17238562 0.16830065 0.1693219  0.17177288\n",
            " 0.16156046 0.14971405 0.1503268  0.15196078 0.14726307 0.14501634\n",
            " 0.14603758 0.12479575 0.13112745 0.11397059 0.1190768  0.12377451\n",
            " 0.13562092 0.12908497 0.13459967 0.12806373 0.13031046 0.12724673\n",
            " 0.13521242 0.14522059 0.15257353 0.14848856 0.14338235 0.14562908\n",
            " 0.15236928 0.15400327 0.14971405 0.1621732  0.16319444 0.16584967\n",
            " 0.16600676 0.16860873 0.17019202 0.17131375]\n",
            "4 day output [[0.17229734]]\n",
            "5 day input [0.14011438 0.1380719  0.13071895 0.13071895 0.12867647 0.11846405\n",
            " 0.14644608 0.14808007 0.15910948 0.15992647 0.15788399 0.16441993\n",
            " 0.17892157 0.17933007 0.19260621 0.20812908 0.18974673 0.18055556\n",
            " 0.18239379 0.17708333 0.17810458 0.18055556 0.17810458 0.17851307\n",
            " 0.19607843 0.18913399 0.18954248 0.19403595 0.19444444 0.20200163\n",
            " 0.19771242 0.19934641 0.19873366 0.1997549  0.2128268  0.21568627\n",
            " 0.20445261 0.21772876 0.21098856 0.21425654 0.19750817 0.18811275\n",
            " 0.17851307 0.17381536 0.16033497 0.16564542 0.17116013 0.17422386\n",
            " 0.18035131 0.17401961 0.16278595 0.16973039 0.17810458 0.17034314\n",
            " 0.16830065 0.17279412 0.17544935 0.18382353 0.19138072 0.18913399\n",
            " 0.19097222 0.17238562 0.16830065 0.1693219  0.17177288 0.16156046\n",
            " 0.14971405 0.1503268  0.15196078 0.14726307 0.14501634 0.14603758\n",
            " 0.12479575 0.13112745 0.11397059 0.1190768  0.12377451 0.13562092\n",
            " 0.12908497 0.13459967 0.12806373 0.13031046 0.12724673 0.13521242\n",
            " 0.14522059 0.15257353 0.14848856 0.14338235 0.14562908 0.15236928\n",
            " 0.15400327 0.14971405 0.1621732  0.16319444 0.16584967 0.16600676\n",
            " 0.16860873 0.17019202 0.17131375 0.17229734]\n",
            "5 day output [[0.17326014]]\n",
            "6 day input [0.1380719  0.13071895 0.13071895 0.12867647 0.11846405 0.14644608\n",
            " 0.14808007 0.15910948 0.15992647 0.15788399 0.16441993 0.17892157\n",
            " 0.17933007 0.19260621 0.20812908 0.18974673 0.18055556 0.18239379\n",
            " 0.17708333 0.17810458 0.18055556 0.17810458 0.17851307 0.19607843\n",
            " 0.18913399 0.18954248 0.19403595 0.19444444 0.20200163 0.19771242\n",
            " 0.19934641 0.19873366 0.1997549  0.2128268  0.21568627 0.20445261\n",
            " 0.21772876 0.21098856 0.21425654 0.19750817 0.18811275 0.17851307\n",
            " 0.17381536 0.16033497 0.16564542 0.17116013 0.17422386 0.18035131\n",
            " 0.17401961 0.16278595 0.16973039 0.17810458 0.17034314 0.16830065\n",
            " 0.17279412 0.17544935 0.18382353 0.19138072 0.18913399 0.19097222\n",
            " 0.17238562 0.16830065 0.1693219  0.17177288 0.16156046 0.14971405\n",
            " 0.1503268  0.15196078 0.14726307 0.14501634 0.14603758 0.12479575\n",
            " 0.13112745 0.11397059 0.1190768  0.12377451 0.13562092 0.12908497\n",
            " 0.13459967 0.12806373 0.13031046 0.12724673 0.13521242 0.14522059\n",
            " 0.15257353 0.14848856 0.14338235 0.14562908 0.15236928 0.15400327\n",
            " 0.14971405 0.1621732  0.16319444 0.16584967 0.16600676 0.16860873\n",
            " 0.17019202 0.17131375 0.17229734 0.17326014]\n",
            "6 day output [[0.17422478]]\n",
            "7 day input [0.13071895 0.13071895 0.12867647 0.11846405 0.14644608 0.14808007\n",
            " 0.15910948 0.15992647 0.15788399 0.16441993 0.17892157 0.17933007\n",
            " 0.19260621 0.20812908 0.18974673 0.18055556 0.18239379 0.17708333\n",
            " 0.17810458 0.18055556 0.17810458 0.17851307 0.19607843 0.18913399\n",
            " 0.18954248 0.19403595 0.19444444 0.20200163 0.19771242 0.19934641\n",
            " 0.19873366 0.1997549  0.2128268  0.21568627 0.20445261 0.21772876\n",
            " 0.21098856 0.21425654 0.19750817 0.18811275 0.17851307 0.17381536\n",
            " 0.16033497 0.16564542 0.17116013 0.17422386 0.18035131 0.17401961\n",
            " 0.16278595 0.16973039 0.17810458 0.17034314 0.16830065 0.17279412\n",
            " 0.17544935 0.18382353 0.19138072 0.18913399 0.19097222 0.17238562\n",
            " 0.16830065 0.1693219  0.17177288 0.16156046 0.14971405 0.1503268\n",
            " 0.15196078 0.14726307 0.14501634 0.14603758 0.12479575 0.13112745\n",
            " 0.11397059 0.1190768  0.12377451 0.13562092 0.12908497 0.13459967\n",
            " 0.12806373 0.13031046 0.12724673 0.13521242 0.14522059 0.15257353\n",
            " 0.14848856 0.14338235 0.14562908 0.15236928 0.15400327 0.14971405\n",
            " 0.1621732  0.16319444 0.16584967 0.16600676 0.16860873 0.17019202\n",
            " 0.17131375 0.17229734 0.17326014 0.17422478]\n",
            "7 day output [[0.17518923]]\n",
            "8 day input [0.13071895 0.12867647 0.11846405 0.14644608 0.14808007 0.15910948\n",
            " 0.15992647 0.15788399 0.16441993 0.17892157 0.17933007 0.19260621\n",
            " 0.20812908 0.18974673 0.18055556 0.18239379 0.17708333 0.17810458\n",
            " 0.18055556 0.17810458 0.17851307 0.19607843 0.18913399 0.18954248\n",
            " 0.19403595 0.19444444 0.20200163 0.19771242 0.19934641 0.19873366\n",
            " 0.1997549  0.2128268  0.21568627 0.20445261 0.21772876 0.21098856\n",
            " 0.21425654 0.19750817 0.18811275 0.17851307 0.17381536 0.16033497\n",
            " 0.16564542 0.17116013 0.17422386 0.18035131 0.17401961 0.16278595\n",
            " 0.16973039 0.17810458 0.17034314 0.16830065 0.17279412 0.17544935\n",
            " 0.18382353 0.19138072 0.18913399 0.19097222 0.17238562 0.16830065\n",
            " 0.1693219  0.17177288 0.16156046 0.14971405 0.1503268  0.15196078\n",
            " 0.14726307 0.14501634 0.14603758 0.12479575 0.13112745 0.11397059\n",
            " 0.1190768  0.12377451 0.13562092 0.12908497 0.13459967 0.12806373\n",
            " 0.13031046 0.12724673 0.13521242 0.14522059 0.15257353 0.14848856\n",
            " 0.14338235 0.14562908 0.15236928 0.15400327 0.14971405 0.1621732\n",
            " 0.16319444 0.16584967 0.16600676 0.16860873 0.17019202 0.17131375\n",
            " 0.17229734 0.17326014 0.17422478 0.17518923]\n",
            "8 day output [[0.17615125]]\n",
            "9 day input [0.12867647 0.11846405 0.14644608 0.14808007 0.15910948 0.15992647\n",
            " 0.15788399 0.16441993 0.17892157 0.17933007 0.19260621 0.20812908\n",
            " 0.18974673 0.18055556 0.18239379 0.17708333 0.17810458 0.18055556\n",
            " 0.17810458 0.17851307 0.19607843 0.18913399 0.18954248 0.19403595\n",
            " 0.19444444 0.20200163 0.19771242 0.19934641 0.19873366 0.1997549\n",
            " 0.2128268  0.21568627 0.20445261 0.21772876 0.21098856 0.21425654\n",
            " 0.19750817 0.18811275 0.17851307 0.17381536 0.16033497 0.16564542\n",
            " 0.17116013 0.17422386 0.18035131 0.17401961 0.16278595 0.16973039\n",
            " 0.17810458 0.17034314 0.16830065 0.17279412 0.17544935 0.18382353\n",
            " 0.19138072 0.18913399 0.19097222 0.17238562 0.16830065 0.1693219\n",
            " 0.17177288 0.16156046 0.14971405 0.1503268  0.15196078 0.14726307\n",
            " 0.14501634 0.14603758 0.12479575 0.13112745 0.11397059 0.1190768\n",
            " 0.12377451 0.13562092 0.12908497 0.13459967 0.12806373 0.13031046\n",
            " 0.12724673 0.13521242 0.14522059 0.15257353 0.14848856 0.14338235\n",
            " 0.14562908 0.15236928 0.15400327 0.14971405 0.1621732  0.16319444\n",
            " 0.16584967 0.16600676 0.16860873 0.17019202 0.17131375 0.17229734\n",
            " 0.17326014 0.17422478 0.17518923 0.17615125]\n",
            "9 day output [[0.17711091]]\n",
            "10 day input [0.11846405 0.14644608 0.14808007 0.15910948 0.15992647 0.15788399\n",
            " 0.16441993 0.17892157 0.17933007 0.19260621 0.20812908 0.18974673\n",
            " 0.18055556 0.18239379 0.17708333 0.17810458 0.18055556 0.17810458\n",
            " 0.17851307 0.19607843 0.18913399 0.18954248 0.19403595 0.19444444\n",
            " 0.20200163 0.19771242 0.19934641 0.19873366 0.1997549  0.2128268\n",
            " 0.21568627 0.20445261 0.21772876 0.21098856 0.21425654 0.19750817\n",
            " 0.18811275 0.17851307 0.17381536 0.16033497 0.16564542 0.17116013\n",
            " 0.17422386 0.18035131 0.17401961 0.16278595 0.16973039 0.17810458\n",
            " 0.17034314 0.16830065 0.17279412 0.17544935 0.18382353 0.19138072\n",
            " 0.18913399 0.19097222 0.17238562 0.16830065 0.1693219  0.17177288\n",
            " 0.16156046 0.14971405 0.1503268  0.15196078 0.14726307 0.14501634\n",
            " 0.14603758 0.12479575 0.13112745 0.11397059 0.1190768  0.12377451\n",
            " 0.13562092 0.12908497 0.13459967 0.12806373 0.13031046 0.12724673\n",
            " 0.13521242 0.14522059 0.15257353 0.14848856 0.14338235 0.14562908\n",
            " 0.15236928 0.15400327 0.14971405 0.1621732  0.16319444 0.16584967\n",
            " 0.16600676 0.16860873 0.17019202 0.17131375 0.17229734 0.17326014\n",
            " 0.17422478 0.17518923 0.17615125 0.17711091]\n",
            "10 day output [[0.17806852]]\n",
            "11 day input [0.14644608 0.14808007 0.15910948 0.15992647 0.15788399 0.16441993\n",
            " 0.17892157 0.17933007 0.19260621 0.20812908 0.18974673 0.18055556\n",
            " 0.18239379 0.17708333 0.17810458 0.18055556 0.17810458 0.17851307\n",
            " 0.19607843 0.18913399 0.18954248 0.19403595 0.19444444 0.20200163\n",
            " 0.19771242 0.19934641 0.19873366 0.1997549  0.2128268  0.21568627\n",
            " 0.20445261 0.21772876 0.21098856 0.21425654 0.19750817 0.18811275\n",
            " 0.17851307 0.17381536 0.16033497 0.16564542 0.17116013 0.17422386\n",
            " 0.18035131 0.17401961 0.16278595 0.16973039 0.17810458 0.17034314\n",
            " 0.16830065 0.17279412 0.17544935 0.18382353 0.19138072 0.18913399\n",
            " 0.19097222 0.17238562 0.16830065 0.1693219  0.17177288 0.16156046\n",
            " 0.14971405 0.1503268  0.15196078 0.14726307 0.14501634 0.14603758\n",
            " 0.12479575 0.13112745 0.11397059 0.1190768  0.12377451 0.13562092\n",
            " 0.12908497 0.13459967 0.12806373 0.13031046 0.12724673 0.13521242\n",
            " 0.14522059 0.15257353 0.14848856 0.14338235 0.14562908 0.15236928\n",
            " 0.15400327 0.14971405 0.1621732  0.16319444 0.16584967 0.16600676\n",
            " 0.16860873 0.17019202 0.17131375 0.17229734 0.17326014 0.17422478\n",
            " 0.17518923 0.17615125 0.17711091 0.17806852]\n",
            "11 day output [[0.17902377]]\n",
            "12 day input [0.14808007 0.15910948 0.15992647 0.15788399 0.16441993 0.17892157\n",
            " 0.17933007 0.19260621 0.20812908 0.18974673 0.18055556 0.18239379\n",
            " 0.17708333 0.17810458 0.18055556 0.17810458 0.17851307 0.19607843\n",
            " 0.18913399 0.18954248 0.19403595 0.19444444 0.20200163 0.19771242\n",
            " 0.19934641 0.19873366 0.1997549  0.2128268  0.21568627 0.20445261\n",
            " 0.21772876 0.21098856 0.21425654 0.19750817 0.18811275 0.17851307\n",
            " 0.17381536 0.16033497 0.16564542 0.17116013 0.17422386 0.18035131\n",
            " 0.17401961 0.16278595 0.16973039 0.17810458 0.17034314 0.16830065\n",
            " 0.17279412 0.17544935 0.18382353 0.19138072 0.18913399 0.19097222\n",
            " 0.17238562 0.16830065 0.1693219  0.17177288 0.16156046 0.14971405\n",
            " 0.1503268  0.15196078 0.14726307 0.14501634 0.14603758 0.12479575\n",
            " 0.13112745 0.11397059 0.1190768  0.12377451 0.13562092 0.12908497\n",
            " 0.13459967 0.12806373 0.13031046 0.12724673 0.13521242 0.14522059\n",
            " 0.15257353 0.14848856 0.14338235 0.14562908 0.15236928 0.15400327\n",
            " 0.14971405 0.1621732  0.16319444 0.16584967 0.16600676 0.16860873\n",
            " 0.17019202 0.17131375 0.17229734 0.17326014 0.17422478 0.17518923\n",
            " 0.17615125 0.17711091 0.17806852 0.17902377]\n",
            "12 day output [[0.17997581]]\n",
            "13 day input [0.15910948 0.15992647 0.15788399 0.16441993 0.17892157 0.17933007\n",
            " 0.19260621 0.20812908 0.18974673 0.18055556 0.18239379 0.17708333\n",
            " 0.17810458 0.18055556 0.17810458 0.17851307 0.19607843 0.18913399\n",
            " 0.18954248 0.19403595 0.19444444 0.20200163 0.19771242 0.19934641\n",
            " 0.19873366 0.1997549  0.2128268  0.21568627 0.20445261 0.21772876\n",
            " 0.21098856 0.21425654 0.19750817 0.18811275 0.17851307 0.17381536\n",
            " 0.16033497 0.16564542 0.17116013 0.17422386 0.18035131 0.17401961\n",
            " 0.16278595 0.16973039 0.17810458 0.17034314 0.16830065 0.17279412\n",
            " 0.17544935 0.18382353 0.19138072 0.18913399 0.19097222 0.17238562\n",
            " 0.16830065 0.1693219  0.17177288 0.16156046 0.14971405 0.1503268\n",
            " 0.15196078 0.14726307 0.14501634 0.14603758 0.12479575 0.13112745\n",
            " 0.11397059 0.1190768  0.12377451 0.13562092 0.12908497 0.13459967\n",
            " 0.12806373 0.13031046 0.12724673 0.13521242 0.14522059 0.15257353\n",
            " 0.14848856 0.14338235 0.14562908 0.15236928 0.15400327 0.14971405\n",
            " 0.1621732  0.16319444 0.16584967 0.16600676 0.16860873 0.17019202\n",
            " 0.17131375 0.17229734 0.17326014 0.17422478 0.17518923 0.17615125\n",
            " 0.17711091 0.17806852 0.17902377 0.17997581]\n",
            "13 day output [[0.18092416]]\n",
            "14 day input [0.15992647 0.15788399 0.16441993 0.17892157 0.17933007 0.19260621\n",
            " 0.20812908 0.18974673 0.18055556 0.18239379 0.17708333 0.17810458\n",
            " 0.18055556 0.17810458 0.17851307 0.19607843 0.18913399 0.18954248\n",
            " 0.19403595 0.19444444 0.20200163 0.19771242 0.19934641 0.19873366\n",
            " 0.1997549  0.2128268  0.21568627 0.20445261 0.21772876 0.21098856\n",
            " 0.21425654 0.19750817 0.18811275 0.17851307 0.17381536 0.16033497\n",
            " 0.16564542 0.17116013 0.17422386 0.18035131 0.17401961 0.16278595\n",
            " 0.16973039 0.17810458 0.17034314 0.16830065 0.17279412 0.17544935\n",
            " 0.18382353 0.19138072 0.18913399 0.19097222 0.17238562 0.16830065\n",
            " 0.1693219  0.17177288 0.16156046 0.14971405 0.1503268  0.15196078\n",
            " 0.14726307 0.14501634 0.14603758 0.12479575 0.13112745 0.11397059\n",
            " 0.1190768  0.12377451 0.13562092 0.12908497 0.13459967 0.12806373\n",
            " 0.13031046 0.12724673 0.13521242 0.14522059 0.15257353 0.14848856\n",
            " 0.14338235 0.14562908 0.15236928 0.15400327 0.14971405 0.1621732\n",
            " 0.16319444 0.16584967 0.16600676 0.16860873 0.17019202 0.17131375\n",
            " 0.17229734 0.17326014 0.17422478 0.17518923 0.17615125 0.17711091\n",
            " 0.17806852 0.17902377 0.17997581 0.18092416]\n",
            "14 day output [[0.18186896]]\n",
            "15 day input [0.15788399 0.16441993 0.17892157 0.17933007 0.19260621 0.20812908\n",
            " 0.18974673 0.18055556 0.18239379 0.17708333 0.17810458 0.18055556\n",
            " 0.17810458 0.17851307 0.19607843 0.18913399 0.18954248 0.19403595\n",
            " 0.19444444 0.20200163 0.19771242 0.19934641 0.19873366 0.1997549\n",
            " 0.2128268  0.21568627 0.20445261 0.21772876 0.21098856 0.21425654\n",
            " 0.19750817 0.18811275 0.17851307 0.17381536 0.16033497 0.16564542\n",
            " 0.17116013 0.17422386 0.18035131 0.17401961 0.16278595 0.16973039\n",
            " 0.17810458 0.17034314 0.16830065 0.17279412 0.17544935 0.18382353\n",
            " 0.19138072 0.18913399 0.19097222 0.17238562 0.16830065 0.1693219\n",
            " 0.17177288 0.16156046 0.14971405 0.1503268  0.15196078 0.14726307\n",
            " 0.14501634 0.14603758 0.12479575 0.13112745 0.11397059 0.1190768\n",
            " 0.12377451 0.13562092 0.12908497 0.13459967 0.12806373 0.13031046\n",
            " 0.12724673 0.13521242 0.14522059 0.15257353 0.14848856 0.14338235\n",
            " 0.14562908 0.15236928 0.15400327 0.14971405 0.1621732  0.16319444\n",
            " 0.16584967 0.16600676 0.16860873 0.17019202 0.17131375 0.17229734\n",
            " 0.17326014 0.17422478 0.17518923 0.17615125 0.17711091 0.17806852\n",
            " 0.17902377 0.17997581 0.18092416 0.18186896]\n",
            "15 day output [[0.18281074]]\n",
            "16 day input [0.16441993 0.17892157 0.17933007 0.19260621 0.20812908 0.18974673\n",
            " 0.18055556 0.18239379 0.17708333 0.17810458 0.18055556 0.17810458\n",
            " 0.17851307 0.19607843 0.18913399 0.18954248 0.19403595 0.19444444\n",
            " 0.20200163 0.19771242 0.19934641 0.19873366 0.1997549  0.2128268\n",
            " 0.21568627 0.20445261 0.21772876 0.21098856 0.21425654 0.19750817\n",
            " 0.18811275 0.17851307 0.17381536 0.16033497 0.16564542 0.17116013\n",
            " 0.17422386 0.18035131 0.17401961 0.16278595 0.16973039 0.17810458\n",
            " 0.17034314 0.16830065 0.17279412 0.17544935 0.18382353 0.19138072\n",
            " 0.18913399 0.19097222 0.17238562 0.16830065 0.1693219  0.17177288\n",
            " 0.16156046 0.14971405 0.1503268  0.15196078 0.14726307 0.14501634\n",
            " 0.14603758 0.12479575 0.13112745 0.11397059 0.1190768  0.12377451\n",
            " 0.13562092 0.12908497 0.13459967 0.12806373 0.13031046 0.12724673\n",
            " 0.13521242 0.14522059 0.15257353 0.14848856 0.14338235 0.14562908\n",
            " 0.15236928 0.15400327 0.14971405 0.1621732  0.16319444 0.16584967\n",
            " 0.16600676 0.16860873 0.17019202 0.17131375 0.17229734 0.17326014\n",
            " 0.17422478 0.17518923 0.17615125 0.17711091 0.17806852 0.17902377\n",
            " 0.17997581 0.18092416 0.18186896 0.18281074]\n",
            "16 day output [[0.18375033]]\n",
            "17 day input [0.17892157 0.17933007 0.19260621 0.20812908 0.18974673 0.18055556\n",
            " 0.18239379 0.17708333 0.17810458 0.18055556 0.17810458 0.17851307\n",
            " 0.19607843 0.18913399 0.18954248 0.19403595 0.19444444 0.20200163\n",
            " 0.19771242 0.19934641 0.19873366 0.1997549  0.2128268  0.21568627\n",
            " 0.20445261 0.21772876 0.21098856 0.21425654 0.19750817 0.18811275\n",
            " 0.17851307 0.17381536 0.16033497 0.16564542 0.17116013 0.17422386\n",
            " 0.18035131 0.17401961 0.16278595 0.16973039 0.17810458 0.17034314\n",
            " 0.16830065 0.17279412 0.17544935 0.18382353 0.19138072 0.18913399\n",
            " 0.19097222 0.17238562 0.16830065 0.1693219  0.17177288 0.16156046\n",
            " 0.14971405 0.1503268  0.15196078 0.14726307 0.14501634 0.14603758\n",
            " 0.12479575 0.13112745 0.11397059 0.1190768  0.12377451 0.13562092\n",
            " 0.12908497 0.13459967 0.12806373 0.13031046 0.12724673 0.13521242\n",
            " 0.14522059 0.15257353 0.14848856 0.14338235 0.14562908 0.15236928\n",
            " 0.15400327 0.14971405 0.1621732  0.16319444 0.16584967 0.16600676\n",
            " 0.16860873 0.17019202 0.17131375 0.17229734 0.17326014 0.17422478\n",
            " 0.17518923 0.17615125 0.17711091 0.17806852 0.17902377 0.17997581\n",
            " 0.18092416 0.18186896 0.18281074 0.18375033]\n",
            "17 day output [[0.18468836]]\n",
            "18 day input [0.17933007 0.19260621 0.20812908 0.18974673 0.18055556 0.18239379\n",
            " 0.17708333 0.17810458 0.18055556 0.17810458 0.17851307 0.19607843\n",
            " 0.18913399 0.18954248 0.19403595 0.19444444 0.20200163 0.19771242\n",
            " 0.19934641 0.19873366 0.1997549  0.2128268  0.21568627 0.20445261\n",
            " 0.21772876 0.21098856 0.21425654 0.19750817 0.18811275 0.17851307\n",
            " 0.17381536 0.16033497 0.16564542 0.17116013 0.17422386 0.18035131\n",
            " 0.17401961 0.16278595 0.16973039 0.17810458 0.17034314 0.16830065\n",
            " 0.17279412 0.17544935 0.18382353 0.19138072 0.18913399 0.19097222\n",
            " 0.17238562 0.16830065 0.1693219  0.17177288 0.16156046 0.14971405\n",
            " 0.1503268  0.15196078 0.14726307 0.14501634 0.14603758 0.12479575\n",
            " 0.13112745 0.11397059 0.1190768  0.12377451 0.13562092 0.12908497\n",
            " 0.13459967 0.12806373 0.13031046 0.12724673 0.13521242 0.14522059\n",
            " 0.15257353 0.14848856 0.14338235 0.14562908 0.15236928 0.15400327\n",
            " 0.14971405 0.1621732  0.16319444 0.16584967 0.16600676 0.16860873\n",
            " 0.17019202 0.17131375 0.17229734 0.17326014 0.17422478 0.17518923\n",
            " 0.17615125 0.17711091 0.17806852 0.17902377 0.17997581 0.18092416\n",
            " 0.18186896 0.18281074 0.18375033 0.18468836]\n",
            "18 day output [[0.1856251]]\n",
            "19 day input [0.19260621 0.20812908 0.18974673 0.18055556 0.18239379 0.17708333\n",
            " 0.17810458 0.18055556 0.17810458 0.17851307 0.19607843 0.18913399\n",
            " 0.18954248 0.19403595 0.19444444 0.20200163 0.19771242 0.19934641\n",
            " 0.19873366 0.1997549  0.2128268  0.21568627 0.20445261 0.21772876\n",
            " 0.21098856 0.21425654 0.19750817 0.18811275 0.17851307 0.17381536\n",
            " 0.16033497 0.16564542 0.17116013 0.17422386 0.18035131 0.17401961\n",
            " 0.16278595 0.16973039 0.17810458 0.17034314 0.16830065 0.17279412\n",
            " 0.17544935 0.18382353 0.19138072 0.18913399 0.19097222 0.17238562\n",
            " 0.16830065 0.1693219  0.17177288 0.16156046 0.14971405 0.1503268\n",
            " 0.15196078 0.14726307 0.14501634 0.14603758 0.12479575 0.13112745\n",
            " 0.11397059 0.1190768  0.12377451 0.13562092 0.12908497 0.13459967\n",
            " 0.12806373 0.13031046 0.12724673 0.13521242 0.14522059 0.15257353\n",
            " 0.14848856 0.14338235 0.14562908 0.15236928 0.15400327 0.14971405\n",
            " 0.1621732  0.16319444 0.16584967 0.16600676 0.16860873 0.17019202\n",
            " 0.17131375 0.17229734 0.17326014 0.17422478 0.17518923 0.17615125\n",
            " 0.17711091 0.17806852 0.17902377 0.17997581 0.18092416 0.18186896\n",
            " 0.18281074 0.18375033 0.18468836 0.18562511]\n",
            "19 day output [[0.18656029]]\n",
            "20 day input [0.20812908 0.18974673 0.18055556 0.18239379 0.17708333 0.17810458\n",
            " 0.18055556 0.17810458 0.17851307 0.19607843 0.18913399 0.18954248\n",
            " 0.19403595 0.19444444 0.20200163 0.19771242 0.19934641 0.19873366\n",
            " 0.1997549  0.2128268  0.21568627 0.20445261 0.21772876 0.21098856\n",
            " 0.21425654 0.19750817 0.18811275 0.17851307 0.17381536 0.16033497\n",
            " 0.16564542 0.17116013 0.17422386 0.18035131 0.17401961 0.16278595\n",
            " 0.16973039 0.17810458 0.17034314 0.16830065 0.17279412 0.17544935\n",
            " 0.18382353 0.19138072 0.18913399 0.19097222 0.17238562 0.16830065\n",
            " 0.1693219  0.17177288 0.16156046 0.14971405 0.1503268  0.15196078\n",
            " 0.14726307 0.14501634 0.14603758 0.12479575 0.13112745 0.11397059\n",
            " 0.1190768  0.12377451 0.13562092 0.12908497 0.13459967 0.12806373\n",
            " 0.13031046 0.12724673 0.13521242 0.14522059 0.15257353 0.14848856\n",
            " 0.14338235 0.14562908 0.15236928 0.15400327 0.14971405 0.1621732\n",
            " 0.16319444 0.16584967 0.16600676 0.16860873 0.17019202 0.17131375\n",
            " 0.17229734 0.17326014 0.17422478 0.17518923 0.17615125 0.17711091\n",
            " 0.17806852 0.17902377 0.17997581 0.18092416 0.18186896 0.18281074\n",
            " 0.18375033 0.18468836 0.18562511 0.18656029]\n",
            "20 day output [[0.18749312]]\n",
            "21 day input [0.18974673 0.18055556 0.18239379 0.17708333 0.17810458 0.18055556\n",
            " 0.17810458 0.17851307 0.19607843 0.18913399 0.18954248 0.19403595\n",
            " 0.19444444 0.20200163 0.19771242 0.19934641 0.19873366 0.1997549\n",
            " 0.2128268  0.21568627 0.20445261 0.21772876 0.21098856 0.21425654\n",
            " 0.19750817 0.18811275 0.17851307 0.17381536 0.16033497 0.16564542\n",
            " 0.17116013 0.17422386 0.18035131 0.17401961 0.16278595 0.16973039\n",
            " 0.17810458 0.17034314 0.16830065 0.17279412 0.17544935 0.18382353\n",
            " 0.19138072 0.18913399 0.19097222 0.17238562 0.16830065 0.1693219\n",
            " 0.17177288 0.16156046 0.14971405 0.1503268  0.15196078 0.14726307\n",
            " 0.14501634 0.14603758 0.12479575 0.13112745 0.11397059 0.1190768\n",
            " 0.12377451 0.13562092 0.12908497 0.13459967 0.12806373 0.13031046\n",
            " 0.12724673 0.13521242 0.14522059 0.15257353 0.14848856 0.14338235\n",
            " 0.14562908 0.15236928 0.15400327 0.14971405 0.1621732  0.16319444\n",
            " 0.16584967 0.16600676 0.16860873 0.17019202 0.17131375 0.17229734\n",
            " 0.17326014 0.17422478 0.17518923 0.17615125 0.17711091 0.17806852\n",
            " 0.17902377 0.17997581 0.18092416 0.18186896 0.18281074 0.18375033\n",
            " 0.18468836 0.18562511 0.18656029 0.18749312]\n",
            "21 day output [[0.18842235]]\n",
            "22 day input [0.18055556 0.18239379 0.17708333 0.17810458 0.18055556 0.17810458\n",
            " 0.17851307 0.19607843 0.18913399 0.18954248 0.19403595 0.19444444\n",
            " 0.20200163 0.19771242 0.19934641 0.19873366 0.1997549  0.2128268\n",
            " 0.21568627 0.20445261 0.21772876 0.21098856 0.21425654 0.19750817\n",
            " 0.18811275 0.17851307 0.17381536 0.16033497 0.16564542 0.17116013\n",
            " 0.17422386 0.18035131 0.17401961 0.16278595 0.16973039 0.17810458\n",
            " 0.17034314 0.16830065 0.17279412 0.17544935 0.18382353 0.19138072\n",
            " 0.18913399 0.19097222 0.17238562 0.16830065 0.1693219  0.17177288\n",
            " 0.16156046 0.14971405 0.1503268  0.15196078 0.14726307 0.14501634\n",
            " 0.14603758 0.12479575 0.13112745 0.11397059 0.1190768  0.12377451\n",
            " 0.13562092 0.12908497 0.13459967 0.12806373 0.13031046 0.12724673\n",
            " 0.13521242 0.14522059 0.15257353 0.14848856 0.14338235 0.14562908\n",
            " 0.15236928 0.15400327 0.14971405 0.1621732  0.16319444 0.16584967\n",
            " 0.16600676 0.16860873 0.17019202 0.17131375 0.17229734 0.17326014\n",
            " 0.17422478 0.17518923 0.17615125 0.17711091 0.17806852 0.17902377\n",
            " 0.17997581 0.18092416 0.18186896 0.18281074 0.18375033 0.18468836\n",
            " 0.18562511 0.18656029 0.18749312 0.18842235]\n",
            "22 day output [[0.18934648]]\n",
            "23 day input [0.18239379 0.17708333 0.17810458 0.18055556 0.17810458 0.17851307\n",
            " 0.19607843 0.18913399 0.18954248 0.19403595 0.19444444 0.20200163\n",
            " 0.19771242 0.19934641 0.19873366 0.1997549  0.2128268  0.21568627\n",
            " 0.20445261 0.21772876 0.21098856 0.21425654 0.19750817 0.18811275\n",
            " 0.17851307 0.17381536 0.16033497 0.16564542 0.17116013 0.17422386\n",
            " 0.18035131 0.17401961 0.16278595 0.16973039 0.17810458 0.17034314\n",
            " 0.16830065 0.17279412 0.17544935 0.18382353 0.19138072 0.18913399\n",
            " 0.19097222 0.17238562 0.16830065 0.1693219  0.17177288 0.16156046\n",
            " 0.14971405 0.1503268  0.15196078 0.14726307 0.14501634 0.14603758\n",
            " 0.12479575 0.13112745 0.11397059 0.1190768  0.12377451 0.13562092\n",
            " 0.12908497 0.13459967 0.12806373 0.13031046 0.12724673 0.13521242\n",
            " 0.14522059 0.15257353 0.14848856 0.14338235 0.14562908 0.15236928\n",
            " 0.15400327 0.14971405 0.1621732  0.16319444 0.16584967 0.16600676\n",
            " 0.16860873 0.17019202 0.17131375 0.17229734 0.17326014 0.17422478\n",
            " 0.17518923 0.17615125 0.17711091 0.17806852 0.17902377 0.17997581\n",
            " 0.18092416 0.18186896 0.18281074 0.18375033 0.18468836 0.18562511\n",
            " 0.18656029 0.18749312 0.18842235 0.18934648]\n",
            "23 day output [[0.19026376]]\n",
            "24 day input [0.17708333 0.17810458 0.18055556 0.17810458 0.17851307 0.19607843\n",
            " 0.18913399 0.18954248 0.19403595 0.19444444 0.20200163 0.19771242\n",
            " 0.19934641 0.19873366 0.1997549  0.2128268  0.21568627 0.20445261\n",
            " 0.21772876 0.21098856 0.21425654 0.19750817 0.18811275 0.17851307\n",
            " 0.17381536 0.16033497 0.16564542 0.17116013 0.17422386 0.18035131\n",
            " 0.17401961 0.16278595 0.16973039 0.17810458 0.17034314 0.16830065\n",
            " 0.17279412 0.17544935 0.18382353 0.19138072 0.18913399 0.19097222\n",
            " 0.17238562 0.16830065 0.1693219  0.17177288 0.16156046 0.14971405\n",
            " 0.1503268  0.15196078 0.14726307 0.14501634 0.14603758 0.12479575\n",
            " 0.13112745 0.11397059 0.1190768  0.12377451 0.13562092 0.12908497\n",
            " 0.13459967 0.12806373 0.13031046 0.12724673 0.13521242 0.14522059\n",
            " 0.15257353 0.14848856 0.14338235 0.14562908 0.15236928 0.15400327\n",
            " 0.14971405 0.1621732  0.16319444 0.16584967 0.16600676 0.16860873\n",
            " 0.17019202 0.17131375 0.17229734 0.17326014 0.17422478 0.17518923\n",
            " 0.17615125 0.17711091 0.17806852 0.17902377 0.17997581 0.18092416\n",
            " 0.18186896 0.18281074 0.18375033 0.18468836 0.18562511 0.18656029\n",
            " 0.18749312 0.18842235 0.18934648 0.19026376]\n",
            "24 day output [[0.1911726]]\n",
            "25 day input [0.17810458 0.18055556 0.17810458 0.17851307 0.19607843 0.18913399\n",
            " 0.18954248 0.19403595 0.19444444 0.20200163 0.19771242 0.19934641\n",
            " 0.19873366 0.1997549  0.2128268  0.21568627 0.20445261 0.21772876\n",
            " 0.21098856 0.21425654 0.19750817 0.18811275 0.17851307 0.17381536\n",
            " 0.16033497 0.16564542 0.17116013 0.17422386 0.18035131 0.17401961\n",
            " 0.16278595 0.16973039 0.17810458 0.17034314 0.16830065 0.17279412\n",
            " 0.17544935 0.18382353 0.19138072 0.18913399 0.19097222 0.17238562\n",
            " 0.16830065 0.1693219  0.17177288 0.16156046 0.14971405 0.1503268\n",
            " 0.15196078 0.14726307 0.14501634 0.14603758 0.12479575 0.13112745\n",
            " 0.11397059 0.1190768  0.12377451 0.13562092 0.12908497 0.13459967\n",
            " 0.12806373 0.13031046 0.12724673 0.13521242 0.14522059 0.15257353\n",
            " 0.14848856 0.14338235 0.14562908 0.15236928 0.15400327 0.14971405\n",
            " 0.1621732  0.16319444 0.16584967 0.16600676 0.16860873 0.17019202\n",
            " 0.17131375 0.17229734 0.17326014 0.17422478 0.17518923 0.17615125\n",
            " 0.17711091 0.17806852 0.17902377 0.17997581 0.18092416 0.18186896\n",
            " 0.18281074 0.18375033 0.18468836 0.18562511 0.18656029 0.18749312\n",
            " 0.18842235 0.18934648 0.19026376 0.1911726 ]\n",
            "25 day output [[0.19207151]]\n",
            "26 day input [0.18055556 0.17810458 0.17851307 0.19607843 0.18913399 0.18954248\n",
            " 0.19403595 0.19444444 0.20200163 0.19771242 0.19934641 0.19873366\n",
            " 0.1997549  0.2128268  0.21568627 0.20445261 0.21772876 0.21098856\n",
            " 0.21425654 0.19750817 0.18811275 0.17851307 0.17381536 0.16033497\n",
            " 0.16564542 0.17116013 0.17422386 0.18035131 0.17401961 0.16278595\n",
            " 0.16973039 0.17810458 0.17034314 0.16830065 0.17279412 0.17544935\n",
            " 0.18382353 0.19138072 0.18913399 0.19097222 0.17238562 0.16830065\n",
            " 0.1693219  0.17177288 0.16156046 0.14971405 0.1503268  0.15196078\n",
            " 0.14726307 0.14501634 0.14603758 0.12479575 0.13112745 0.11397059\n",
            " 0.1190768  0.12377451 0.13562092 0.12908497 0.13459967 0.12806373\n",
            " 0.13031046 0.12724673 0.13521242 0.14522059 0.15257353 0.14848856\n",
            " 0.14338235 0.14562908 0.15236928 0.15400327 0.14971405 0.1621732\n",
            " 0.16319444 0.16584967 0.16600676 0.16860873 0.17019202 0.17131375\n",
            " 0.17229734 0.17326014 0.17422478 0.17518923 0.17615125 0.17711091\n",
            " 0.17806852 0.17902377 0.17997581 0.18092416 0.18186896 0.18281074\n",
            " 0.18375033 0.18468836 0.18562511 0.18656029 0.18749312 0.18842235\n",
            " 0.18934648 0.19026376 0.1911726  0.19207151]\n",
            "26 day output [[0.192959]]\n",
            "27 day input [0.17810458 0.17851307 0.19607843 0.18913399 0.18954248 0.19403595\n",
            " 0.19444444 0.20200163 0.19771242 0.19934641 0.19873366 0.1997549\n",
            " 0.2128268  0.21568627 0.20445261 0.21772876 0.21098856 0.21425654\n",
            " 0.19750817 0.18811275 0.17851307 0.17381536 0.16033497 0.16564542\n",
            " 0.17116013 0.17422386 0.18035131 0.17401961 0.16278595 0.16973039\n",
            " 0.17810458 0.17034314 0.16830065 0.17279412 0.17544935 0.18382353\n",
            " 0.19138072 0.18913399 0.19097222 0.17238562 0.16830065 0.1693219\n",
            " 0.17177288 0.16156046 0.14971405 0.1503268  0.15196078 0.14726307\n",
            " 0.14501634 0.14603758 0.12479575 0.13112745 0.11397059 0.1190768\n",
            " 0.12377451 0.13562092 0.12908497 0.13459967 0.12806373 0.13031046\n",
            " 0.12724673 0.13521242 0.14522059 0.15257353 0.14848856 0.14338235\n",
            " 0.14562908 0.15236928 0.15400327 0.14971405 0.1621732  0.16319444\n",
            " 0.16584967 0.16600676 0.16860873 0.17019202 0.17131375 0.17229734\n",
            " 0.17326014 0.17422478 0.17518923 0.17615125 0.17711091 0.17806852\n",
            " 0.17902377 0.17997581 0.18092416 0.18186896 0.18281074 0.18375033\n",
            " 0.18468836 0.18562511 0.18656029 0.18749312 0.18842235 0.18934648\n",
            " 0.19026376 0.1911726  0.19207151 0.192959  ]\n",
            "27 day output [[0.19383426]]\n",
            "28 day input [0.17851307 0.19607843 0.18913399 0.18954248 0.19403595 0.19444444\n",
            " 0.20200163 0.19771242 0.19934641 0.19873366 0.1997549  0.2128268\n",
            " 0.21568627 0.20445261 0.21772876 0.21098856 0.21425654 0.19750817\n",
            " 0.18811275 0.17851307 0.17381536 0.16033497 0.16564542 0.17116013\n",
            " 0.17422386 0.18035131 0.17401961 0.16278595 0.16973039 0.17810458\n",
            " 0.17034314 0.16830065 0.17279412 0.17544935 0.18382353 0.19138072\n",
            " 0.18913399 0.19097222 0.17238562 0.16830065 0.1693219  0.17177288\n",
            " 0.16156046 0.14971405 0.1503268  0.15196078 0.14726307 0.14501634\n",
            " 0.14603758 0.12479575 0.13112745 0.11397059 0.1190768  0.12377451\n",
            " 0.13562092 0.12908497 0.13459967 0.12806373 0.13031046 0.12724673\n",
            " 0.13521242 0.14522059 0.15257353 0.14848856 0.14338235 0.14562908\n",
            " 0.15236928 0.15400327 0.14971405 0.1621732  0.16319444 0.16584967\n",
            " 0.16600676 0.16860873 0.17019202 0.17131375 0.17229734 0.17326014\n",
            " 0.17422478 0.17518923 0.17615125 0.17711091 0.17806852 0.17902377\n",
            " 0.17997581 0.18092416 0.18186896 0.18281074 0.18375033 0.18468836\n",
            " 0.18562511 0.18656029 0.18749312 0.18842235 0.18934648 0.19026376\n",
            " 0.1911726  0.19207151 0.192959   0.19383426]\n",
            "28 day output [[0.19469632]]\n",
            "29 day input [0.19607843 0.18913399 0.18954248 0.19403595 0.19444444 0.20200163\n",
            " 0.19771242 0.19934641 0.19873366 0.1997549  0.2128268  0.21568627\n",
            " 0.20445261 0.21772876 0.21098856 0.21425654 0.19750817 0.18811275\n",
            " 0.17851307 0.17381536 0.16033497 0.16564542 0.17116013 0.17422386\n",
            " 0.18035131 0.17401961 0.16278595 0.16973039 0.17810458 0.17034314\n",
            " 0.16830065 0.17279412 0.17544935 0.18382353 0.19138072 0.18913399\n",
            " 0.19097222 0.17238562 0.16830065 0.1693219  0.17177288 0.16156046\n",
            " 0.14971405 0.1503268  0.15196078 0.14726307 0.14501634 0.14603758\n",
            " 0.12479575 0.13112745 0.11397059 0.1190768  0.12377451 0.13562092\n",
            " 0.12908497 0.13459967 0.12806373 0.13031046 0.12724673 0.13521242\n",
            " 0.14522059 0.15257353 0.14848856 0.14338235 0.14562908 0.15236928\n",
            " 0.15400327 0.14971405 0.1621732  0.16319444 0.16584967 0.16600676\n",
            " 0.16860873 0.17019202 0.17131375 0.17229734 0.17326014 0.17422478\n",
            " 0.17518923 0.17615125 0.17711091 0.17806852 0.17902377 0.17997581\n",
            " 0.18092416 0.18186896 0.18281074 0.18375033 0.18468836 0.18562511\n",
            " 0.18656029 0.18749312 0.18842235 0.18934648 0.19026376 0.1911726\n",
            " 0.19207151 0.192959   0.19383426 0.19469632]\n",
            "29 day output [[0.19554473]]\n",
            "[[0.16600675880908966], [0.16860872507095337], [0.17019201815128326], [0.17131374776363373], [0.17229734361171722], [0.1732601374387741], [0.17422477900981903], [0.17518922686576843], [0.17615124583244324], [0.17711091041564941], [0.17806851863861084], [0.17902377247810364], [0.17997580766677856], [0.1809241622686386], [0.18186895549297333], [0.1828107386827469], [0.18375033140182495], [0.18468835949897766], [0.1856251060962677], [0.18656028807163239], [0.18749311566352844], [0.18842235207557678], [0.18934647738933563], [0.1902637630701065], [0.19117259979248047], [0.19207151234149933], [0.1929589956998825], [0.19383426010608673], [0.1946963220834732], [0.19554473459720612]]\n"
          ]
        }
      ]
    },
    {
      "cell_type": "code",
      "metadata": {
        "id": "pJKBwN2hhJiO"
      },
      "source": [
        "day_new = np.arange(1, 101)\n",
        "day_pred = np.arange(101, 131)"
      ],
      "execution_count": null,
      "outputs": []
    },
    {
      "cell_type": "markdown",
      "metadata": {
        "id": "VtLAXY-2hRrs"
      },
      "source": [
        "**Plot Predictions**"
      ]
    },
    {
      "cell_type": "code",
      "metadata": {
        "colab": {
          "base_uri": "https://localhost:8080/",
          "height": 282
        },
        "id": "PAo6fCWUhVAG",
        "outputId": "a4a53134-1cbc-4311-91fd-e7c2b4d71163"
      },
      "source": [
        "plt.plot(day_new, scaler.inverse_transform(stock_close[1935:]))\n",
        "plt.plot(day_pred, scaler.inverse_transform(lst_op))"
      ],
      "execution_count": null,
      "outputs": [
        {
          "output_type": "execute_result",
          "data": {
            "text/plain": [
              "[<matplotlib.lines.Line2D at 0x7f383c6ab1d0>]"
            ]
          },
          "metadata": {},
          "execution_count": 65
        },
        {
          "output_type": "display_data",
          "data": {
            "image/png": "[encoded data removed]",
            "text/plain": [
              "<Figure size 432x288 with 1 Axes>"
            ]
          },
          "metadata": {
            "needs_background": "light"
          }
        }
      ]
    }
  ]
}